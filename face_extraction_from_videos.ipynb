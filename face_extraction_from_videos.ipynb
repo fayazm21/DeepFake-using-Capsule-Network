{
 "cells": [
  {
   "cell_type": "code",
   "execution_count": null,
   "metadata": {},
   "outputs": [],
   "source": [
    "# HOG\\----best till now\n",
    "# fake\n",
    "import os\n",
    "import cv2\n",
    "import dlib\n",
    "import argparse\n",
    "import numpy as np\n",
    "\n",
    "hog_face_detector = dlib.get_frontal_face_detector()\n",
    "\n",
    "\n",
    "\n",
    "os.chdir('D:/DL2/my_model8/FF++/All_datasets/manipulated_sequences/deepfakes/c23/videos')\n",
    "# n=1\n",
    "crop_area = 80\n",
    "detector = dlib.get_frontal_face_detector()\n",
    "for i in os.listdir():\n",
    "    \n",
    "#   t1= time.perf_counter()\n",
    "    \n",
    "    s=i.replace('.mp4','')\n",
    "    vidcap = cv2.VideoCapture(i)\n",
    "    count = 0\n",
    "    while True:\n",
    "        success,img = vidcap.read()\n",
    "        if not success:\n",
    "            break\n",
    "            \n",
    "\n",
    "\n",
    "        faces_hog = hog_face_detector(img, 1)\n",
    "        \n",
    "        # loop over detected faces\n",
    "        for face in faces_hog:\n",
    "            x = face.left()\n",
    "            y = face.top()\n",
    "            w = face.right() - x\n",
    "            h = face.bottom() - y\n",
    "\n",
    "            # draw box over face\n",
    "            cv2.rectangle(img, (x,y), (x+w,y+h), (0,255,0), 2)\n",
    "            faces = img[y:y + h, x:x + w]\n",
    "            \n",
    "        if faces.shape[0]<70:  #removing any weird images\n",
    "            break    \n",
    "        \n",
    "#         if !faces.ssize.empty() is\n",
    "                \n",
    "        faces2 = cv2.resize(faces, (224,224))\n",
    "            \n",
    "        cv2.imwrite(os.path.join(\"C:/FF2/hog_fake\",f\"df_{s}_frame{count:03}.jpg\"), faces2)  \n",
    "        \n",
    "        count+= 15\n",
    "        vidcap.set(1, count)\n",
    "        \n",
    "#     td= time.perf_counter() - t1\n",
    "    print(f\"{int(count/15)} images extacted from {i}.\")\n",
    "\n",
    "    \n",
    "    "
   ]
  }
 ],
 "metadata": {
  "kernelspec": {
   "display_name": "Python 3.10.7 64-bit",
   "language": "python",
   "name": "python3"
  },
  "language_info": {
   "name": "python",
   "version": "3.10.7"
  },
  "orig_nbformat": 4,
  "vscode": {
   "interpreter": {
    "hash": "8ef873d6a9fb09128c51ca24f57d685a29a4c4cb4919f17482f419e89ebc151a"
   }
  }
 },
 "nbformat": 4,
 "nbformat_minor": 2
}
